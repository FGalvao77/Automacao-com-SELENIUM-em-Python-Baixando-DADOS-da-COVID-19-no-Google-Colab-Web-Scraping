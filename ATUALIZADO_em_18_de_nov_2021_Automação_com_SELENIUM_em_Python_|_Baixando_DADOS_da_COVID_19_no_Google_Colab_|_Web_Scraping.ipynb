{
  "nbformat": 4,
  "nbformat_minor": 0,
  "metadata": {
    "colab": {
      "name": "ATUALIZADO  em 18 de nov 2021- Automação com SELENIUM em Python | Baixando DADOS da COVID-19 no Google Colab | Web Scraping.ipynb",
      "provenance": [],
      "collapsed_sections": [],
      "mount_file_id": "1_ygBLHZ2oWBoas7IdE8NNEwrUJGEOl3I",
      "authorship_tag": "ABX9TyNFH6EVAzYWFo9km9F1jPuQ",
      "include_colab_link": true
    },
    "kernelspec": {
      "name": "python3",
      "display_name": "Python 3"
    },
    "language_info": {
      "name": "python"
    }
  },
  "cells": [
    {
      "cell_type": "markdown",
      "metadata": {
        "id": "view-in-github",
        "colab_type": "text"
      },
      "source": [
        "<a href=\"https://colab.research.google.com/github/FGalvao77/Automacao-com-SELENIUM-em-Python-Baixando-DADOS-da-COVID-19-no-Google-Colab-Web-Scraping/blob/main/ATUALIZADO_em_18_de_nov_2021_Automa%C3%A7%C3%A3o_com_SELENIUM_em_Python_%7C_Baixando_DADOS_da_COVID_19_no_Google_Colab_%7C_Web_Scraping.ipynb\" target=\"_parent\"><img src=\"https://colab.research.google.com/assets/colab-badge.svg\" alt=\"Open In Colab\"/></a>"
      ]
    },
    {
      "cell_type": "markdown",
      "metadata": {
        "id": "PkUTRKZzgEJU"
      },
      "source": [
        "# **Automação com SELENIUM em Python | Baixando DADOS da COVID-19 no Google Colab | Web Scraping**\n",
        "\n",
        "---\n",
        "\n"
      ]
    },
    {
      "cell_type": "markdown",
      "metadata": {
        "id": "pNjyg8QduFRA"
      },
      "source": [
        "### **1. Introdução**\n",
        "\n",
        "O objetivo principal aqui é, automatizar a importação dos dados da `COVID-19` através da página oficial do **[Ministério da Saúde](https://covid.saude.gov.br/)**.\n",
        "\n",
        "Para melhor entendimento, clique no link acima que levará a página e, lá você poderá observar que no canto direito superior tem um botão para realizar o download de `Arquivo CSV`.\n",
        "- nesse arquivo há os dados sobre a covid em nível nacional."
      ]
    },
    {
      "cell_type": "markdown",
      "metadata": {
        "id": "rvlflhQewK6T"
      },
      "source": [
        "Portanto vamos realizar automação da importação desse arquivo. Seguindo as seguintes etapas:     \n",
        "- instalando as bibliotecas e importando as funções necessárias;\n",
        "- configurando o ambiente do google colab;\n",
        "- criando e movendo o arquivo para uma pasta no google drive;\n",
        "- extraindo o arquivo e,\n",
        "- por fim, realizando a leitura do arquivo.\n"
      ]
    },
    {
      "cell_type": "markdown",
      "metadata": {
        "id": "q5BbrTdFq-dO"
      },
      "source": [
        "### **2. Instalando as bibliotecas necessárias e configurando o ambiente do google colab**"
      ]
    },
    {
      "cell_type": "code",
      "metadata": {
        "colab": {
          "base_uri": "https://localhost:8080/"
        },
        "id": "7Ty5_9GXgZpj",
        "outputId": "53f007a6-20fb-49c9-c20c-37b1bc2c67cb"
      },
      "source": [
        "# instalando a biblioteca \"selenium\"\n",
        "!pip install selenium"
      ],
      "execution_count": null,
      "outputs": [
        {
          "output_type": "stream",
          "name": "stdout",
          "text": [
            "Collecting selenium\n",
            "  Downloading selenium-4.0.0-py3-none-any.whl (954 kB)\n",
            "\u001b[?25l\r\u001b[K     |▍                               | 10 kB 28.3 MB/s eta 0:00:01\r\u001b[K     |▊                               | 20 kB 26.0 MB/s eta 0:00:01\r\u001b[K     |█                               | 30 kB 22.1 MB/s eta 0:00:01\r\u001b[K     |█▍                              | 40 kB 17.8 MB/s eta 0:00:01\r\u001b[K     |█▊                              | 51 kB 10.4 MB/s eta 0:00:01\r\u001b[K     |██                              | 61 kB 10.6 MB/s eta 0:00:01\r\u001b[K     |██▍                             | 71 kB 9.9 MB/s eta 0:00:01\r\u001b[K     |██▊                             | 81 kB 10.9 MB/s eta 0:00:01\r\u001b[K     |███                             | 92 kB 8.9 MB/s eta 0:00:01\r\u001b[K     |███▍                            | 102 kB 9.5 MB/s eta 0:00:01\r\u001b[K     |███▊                            | 112 kB 9.5 MB/s eta 0:00:01\r\u001b[K     |████▏                           | 122 kB 9.5 MB/s eta 0:00:01\r\u001b[K     |████▌                           | 133 kB 9.5 MB/s eta 0:00:01\r\u001b[K     |████▉                           | 143 kB 9.5 MB/s eta 0:00:01\r\u001b[K     |█████▏                          | 153 kB 9.5 MB/s eta 0:00:01\r\u001b[K     |█████▌                          | 163 kB 9.5 MB/s eta 0:00:01\r\u001b[K     |█████▉                          | 174 kB 9.5 MB/s eta 0:00:01\r\u001b[K     |██████▏                         | 184 kB 9.5 MB/s eta 0:00:01\r\u001b[K     |██████▌                         | 194 kB 9.5 MB/s eta 0:00:01\r\u001b[K     |██████▉                         | 204 kB 9.5 MB/s eta 0:00:01\r\u001b[K     |███████▏                        | 215 kB 9.5 MB/s eta 0:00:01\r\u001b[K     |███████▌                        | 225 kB 9.5 MB/s eta 0:00:01\r\u001b[K     |████████                        | 235 kB 9.5 MB/s eta 0:00:01\r\u001b[K     |████████▎                       | 245 kB 9.5 MB/s eta 0:00:01\r\u001b[K     |████████▋                       | 256 kB 9.5 MB/s eta 0:00:01\r\u001b[K     |█████████                       | 266 kB 9.5 MB/s eta 0:00:01\r\u001b[K     |█████████▎                      | 276 kB 9.5 MB/s eta 0:00:01\r\u001b[K     |█████████▋                      | 286 kB 9.5 MB/s eta 0:00:01\r\u001b[K     |██████████                      | 296 kB 9.5 MB/s eta 0:00:01\r\u001b[K     |██████████▎                     | 307 kB 9.5 MB/s eta 0:00:01\r\u001b[K     |██████████▋                     | 317 kB 9.5 MB/s eta 0:00:01\r\u001b[K     |███████████                     | 327 kB 9.5 MB/s eta 0:00:01\r\u001b[K     |███████████▎                    | 337 kB 9.5 MB/s eta 0:00:01\r\u001b[K     |███████████▊                    | 348 kB 9.5 MB/s eta 0:00:01\r\u001b[K     |████████████                    | 358 kB 9.5 MB/s eta 0:00:01\r\u001b[K     |████████████▍                   | 368 kB 9.5 MB/s eta 0:00:01\r\u001b[K     |████████████▊                   | 378 kB 9.5 MB/s eta 0:00:01\r\u001b[K     |█████████████                   | 389 kB 9.5 MB/s eta 0:00:01\r\u001b[K     |█████████████▍                  | 399 kB 9.5 MB/s eta 0:00:01\r\u001b[K     |█████████████▊                  | 409 kB 9.5 MB/s eta 0:00:01\r\u001b[K     |██████████████                  | 419 kB 9.5 MB/s eta 0:00:01\r\u001b[K     |██████████████▍                 | 430 kB 9.5 MB/s eta 0:00:01\r\u001b[K     |██████████████▊                 | 440 kB 9.5 MB/s eta 0:00:01\r\u001b[K     |███████████████                 | 450 kB 9.5 MB/s eta 0:00:01\r\u001b[K     |███████████████▌                | 460 kB 9.5 MB/s eta 0:00:01\r\u001b[K     |███████████████▉                | 471 kB 9.5 MB/s eta 0:00:01\r\u001b[K     |████████████████▏               | 481 kB 9.5 MB/s eta 0:00:01\r\u001b[K     |████████████████▌               | 491 kB 9.5 MB/s eta 0:00:01\r\u001b[K     |████████████████▉               | 501 kB 9.5 MB/s eta 0:00:01\r\u001b[K     |█████████████████▏              | 512 kB 9.5 MB/s eta 0:00:01\r\u001b[K     |█████████████████▌              | 522 kB 9.5 MB/s eta 0:00:01\r\u001b[K     |█████████████████▉              | 532 kB 9.5 MB/s eta 0:00:01\r\u001b[K     |██████████████████▏             | 542 kB 9.5 MB/s eta 0:00:01\r\u001b[K     |██████████████████▌             | 552 kB 9.5 MB/s eta 0:00:01\r\u001b[K     |██████████████████▉             | 563 kB 9.5 MB/s eta 0:00:01\r\u001b[K     |███████████████████▎            | 573 kB 9.5 MB/s eta 0:00:01\r\u001b[K     |███████████████████▋            | 583 kB 9.5 MB/s eta 0:00:01\r\u001b[K     |████████████████████            | 593 kB 9.5 MB/s eta 0:00:01\r\u001b[K     |████████████████████▎           | 604 kB 9.5 MB/s eta 0:00:01\r\u001b[K     |████████████████████▋           | 614 kB 9.5 MB/s eta 0:00:01\r\u001b[K     |█████████████████████           | 624 kB 9.5 MB/s eta 0:00:01\r\u001b[K     |█████████████████████▎          | 634 kB 9.5 MB/s eta 0:00:01\r\u001b[K     |█████████████████████▋          | 645 kB 9.5 MB/s eta 0:00:01\r\u001b[K     |██████████████████████          | 655 kB 9.5 MB/s eta 0:00:01\r\u001b[K     |██████████████████████▎         | 665 kB 9.5 MB/s eta 0:00:01\r\u001b[K     |██████████████████████▋         | 675 kB 9.5 MB/s eta 0:00:01\r\u001b[K     |███████████████████████         | 686 kB 9.5 MB/s eta 0:00:01\r\u001b[K     |███████████████████████▍        | 696 kB 9.5 MB/s eta 0:00:01\r\u001b[K     |███████████████████████▊        | 706 kB 9.5 MB/s eta 0:00:01\r\u001b[K     |████████████████████████        | 716 kB 9.5 MB/s eta 0:00:01\r\u001b[K     |████████████████████████▍       | 727 kB 9.5 MB/s eta 0:00:01\r\u001b[K     |████████████████████████▊       | 737 kB 9.5 MB/s eta 0:00:01\r\u001b[K     |█████████████████████████       | 747 kB 9.5 MB/s eta 0:00:01\r\u001b[K     |█████████████████████████▍      | 757 kB 9.5 MB/s eta 0:00:01\r\u001b[K     |█████████████████████████▊      | 768 kB 9.5 MB/s eta 0:00:01\r\u001b[K     |██████████████████████████      | 778 kB 9.5 MB/s eta 0:00:01\r\u001b[K     |██████████████████████████▍     | 788 kB 9.5 MB/s eta 0:00:01\r\u001b[K     |██████████████████████████▉     | 798 kB 9.5 MB/s eta 0:00:01\r\u001b[K     |███████████████████████████▏    | 808 kB 9.5 MB/s eta 0:00:01\r\u001b[K     |███████████████████████████▌    | 819 kB 9.5 MB/s eta 0:00:01\r\u001b[K     |███████████████████████████▉    | 829 kB 9.5 MB/s eta 0:00:01\r\u001b[K     |████████████████████████████▏   | 839 kB 9.5 MB/s eta 0:00:01\r\u001b[K     |████████████████████████████▌   | 849 kB 9.5 MB/s eta 0:00:01\r\u001b[K     |████████████████████████████▉   | 860 kB 9.5 MB/s eta 0:00:01\r\u001b[K     |█████████████████████████████▏  | 870 kB 9.5 MB/s eta 0:00:01\r\u001b[K     |█████████████████████████████▌  | 880 kB 9.5 MB/s eta 0:00:01\r\u001b[K     |█████████████████████████████▉  | 890 kB 9.5 MB/s eta 0:00:01\r\u001b[K     |██████████████████████████████▏ | 901 kB 9.5 MB/s eta 0:00:01\r\u001b[K     |██████████████████████████████▋ | 911 kB 9.5 MB/s eta 0:00:01\r\u001b[K     |███████████████████████████████ | 921 kB 9.5 MB/s eta 0:00:01\r\u001b[K     |███████████████████████████████▎| 931 kB 9.5 MB/s eta 0:00:01\r\u001b[K     |███████████████████████████████▋| 942 kB 9.5 MB/s eta 0:00:01\r\u001b[K     |████████████████████████████████| 952 kB 9.5 MB/s eta 0:00:01\r\u001b[K     |████████████████████████████████| 954 kB 9.5 MB/s \n",
            "\u001b[?25hCollecting trio~=0.17\n",
            "  Downloading trio-0.19.0-py3-none-any.whl (356 kB)\n",
            "\u001b[K     |████████████████████████████████| 356 kB 61.3 MB/s \n",
            "\u001b[?25hCollecting trio-websocket~=0.9\n",
            "  Downloading trio_websocket-0.9.2-py3-none-any.whl (16 kB)\n",
            "Collecting urllib3[secure]~=1.26\n",
            "  Downloading urllib3-1.26.7-py2.py3-none-any.whl (138 kB)\n",
            "\u001b[K     |████████████████████████████████| 138 kB 61.9 MB/s \n",
            "\u001b[?25hCollecting sniffio\n",
            "  Downloading sniffio-1.2.0-py3-none-any.whl (10 kB)\n",
            "Requirement already satisfied: sortedcontainers in /usr/local/lib/python3.7/dist-packages (from trio~=0.17->selenium) (2.4.0)\n",
            "Collecting async-generator>=1.9\n",
            "  Downloading async_generator-1.10-py3-none-any.whl (18 kB)\n",
            "Requirement already satisfied: attrs>=19.2.0 in /usr/local/lib/python3.7/dist-packages (from trio~=0.17->selenium) (21.2.0)\n",
            "Collecting outcome\n",
            "  Downloading outcome-1.1.0-py2.py3-none-any.whl (9.7 kB)\n",
            "Requirement already satisfied: idna in /usr/local/lib/python3.7/dist-packages (from trio~=0.17->selenium) (2.10)\n",
            "Collecting wsproto>=0.14\n",
            "  Downloading wsproto-1.0.0-py3-none-any.whl (24 kB)\n",
            "Requirement already satisfied: certifi in /usr/local/lib/python3.7/dist-packages (from urllib3[secure]~=1.26->selenium) (2021.10.8)\n",
            "Collecting cryptography>=1.3.4\n",
            "  Downloading cryptography-35.0.0-cp36-abi3-manylinux_2_24_x86_64.whl (3.5 MB)\n",
            "\u001b[K     |████████████████████████████████| 3.5 MB 60.1 MB/s \n",
            "\u001b[?25hCollecting pyOpenSSL>=0.14\n",
            "  Downloading pyOpenSSL-21.0.0-py2.py3-none-any.whl (55 kB)\n",
            "\u001b[K     |████████████████████████████████| 55 kB 4.0 MB/s \n",
            "\u001b[?25hRequirement already satisfied: cffi>=1.12 in /usr/local/lib/python3.7/dist-packages (from cryptography>=1.3.4->urllib3[secure]~=1.26->selenium) (1.15.0)\n",
            "Requirement already satisfied: pycparser in /usr/local/lib/python3.7/dist-packages (from cffi>=1.12->cryptography>=1.3.4->urllib3[secure]~=1.26->selenium) (2.21)\n",
            "Requirement already satisfied: six>=1.5.2 in /usr/local/lib/python3.7/dist-packages (from pyOpenSSL>=0.14->urllib3[secure]~=1.26->selenium) (1.15.0)\n",
            "Collecting h11<1,>=0.9.0\n",
            "  Downloading h11-0.12.0-py3-none-any.whl (54 kB)\n",
            "\u001b[K     |████████████████████████████████| 54 kB 3.6 MB/s \n",
            "\u001b[?25hInstalling collected packages: sniffio, outcome, h11, cryptography, async-generator, wsproto, urllib3, trio, pyOpenSSL, trio-websocket, selenium\n",
            "  Attempting uninstall: urllib3\n",
            "    Found existing installation: urllib3 1.24.3\n",
            "    Uninstalling urllib3-1.24.3:\n",
            "      Successfully uninstalled urllib3-1.24.3\n",
            "\u001b[31mERROR: pip's dependency resolver does not currently take into account all the packages that are installed. This behaviour is the source of the following dependency conflicts.\n",
            "requests 2.23.0 requires urllib3!=1.25.0,!=1.25.1,<1.26,>=1.21.1, but you have urllib3 1.26.7 which is incompatible.\n",
            "datascience 0.10.6 requires folium==0.2.1, but you have folium 0.8.3 which is incompatible.\u001b[0m\n",
            "Successfully installed async-generator-1.10 cryptography-35.0.0 h11-0.12.0 outcome-1.1.0 pyOpenSSL-21.0.0 selenium-4.0.0 sniffio-1.2.0 trio-0.19.0 trio-websocket-0.9.2 urllib3-1.26.7 wsproto-1.0.0\n"
          ]
        }
      ]
    },
    {
      "cell_type": "code",
      "metadata": {
        "id": "Qm7Hlh4NgB4V"
      },
      "source": [
        "# importando a biblioteca \"selenium\"\n",
        "import selenium"
      ],
      "execution_count": null,
      "outputs": []
    },
    {
      "cell_type": "code",
      "metadata": {
        "colab": {
          "base_uri": "https://localhost:8080/"
        },
        "id": "bIV3kbrHgZm0",
        "outputId": "de88603b-d558-4c3e-8ae9-55f0ee6bf3ad"
      },
      "source": [
        "# verificando se há necessidades de atualizações das dependências/diretórios\n",
        "!apt update"
      ],
      "execution_count": null,
      "outputs": [
        {
          "output_type": "stream",
          "name": "stdout",
          "text": [
            "\u001b[33m\r0% [Working]\u001b[0m\r            \rHit:1 https://cloud.r-project.org/bin/linux/ubuntu bionic-cran40/ InRelease\n",
            "\u001b[33m\r0% [Connecting to archive.ubuntu.com (91.189.88.152)] [Connecting to security.u\u001b[0m\r                                                                               \rIgn:2 https://developer.download.nvidia.com/compute/cuda/repos/ubuntu1804/x86_64  InRelease\n",
            "\u001b[33m\r0% [Connecting to archive.ubuntu.com (91.189.88.152)] [Connecting to security.u\u001b[0m\u001b[33m\r0% [1 InRelease gpgv 3,626 B] [Connecting to archive.ubuntu.com (91.189.88.152)\u001b[0m\r                                                                               \rIgn:3 https://developer.download.nvidia.com/compute/machine-learning/repos/ubuntu1804/x86_64  InRelease\n",
            "\u001b[33m\r0% [1 InRelease gpgv 3,626 B] [Connecting to archive.ubuntu.com (91.189.88.152)\u001b[0m\r                                                                               \rHit:4 https://developer.download.nvidia.com/compute/cuda/repos/ubuntu1804/x86_64  Release\n",
            "\u001b[33m\r0% [1 InRelease gpgv 3,626 B] [Connecting to archive.ubuntu.com (91.189.88.152)\u001b[0m\r                                                                               \rHit:5 https://developer.download.nvidia.com/compute/machine-learning/repos/ubuntu1804/x86_64  Release\n",
            "\u001b[33m\r0% [1 InRelease gpgv 3,626 B] [Connecting to archive.ubuntu.com (91.189.88.152)\u001b[0m\u001b[33m\r                                                                               \r0% [Waiting for headers] [Waiting for headers] [Waiting for headers]\u001b[0m\u001b[33m\r0% [Release.gpg gpgv 696 B] [Waiting for headers] [Waiting for headers] [Waitin\u001b[0m\r                                                                               \rHit:6 http://ppa.launchpad.net/c2d4u.team/c2d4u4.0+/ubuntu bionic InRelease\n",
            "\u001b[33m\r0% [Release.gpg gpgv 696 B] [Waiting for headers] [Waiting for headers] [Connec\u001b[0m\r                                                                               \rHit:7 http://security.ubuntu.com/ubuntu bionic-security InRelease\n",
            "Hit:8 http://archive.ubuntu.com/ubuntu bionic InRelease\n",
            "Hit:9 http://archive.ubuntu.com/ubuntu bionic-updates InRelease\n",
            "Hit:11 http://ppa.launchpad.net/cran/libgit2/ubuntu bionic InRelease\n",
            "Hit:12 http://archive.ubuntu.com/ubuntu bionic-backports InRelease\n",
            "Hit:14 http://ppa.launchpad.net/deadsnakes/ppa/ubuntu bionic InRelease\n",
            "Hit:15 http://ppa.launchpad.net/graphics-drivers/ppa/ubuntu bionic InRelease\n",
            "Reading package lists... Done\n",
            "Building dependency tree       \n",
            "Reading state information... Done\n",
            "4 packages can be upgraded. Run 'apt list --upgradable' to see them.\n"
          ]
        }
      ]
    },
    {
      "cell_type": "code",
      "metadata": {
        "colab": {
          "base_uri": "https://localhost:8080/"
        },
        "id": "qHUd-xTogCM1",
        "outputId": "1c54a26e-6ef4-47fe-b19b-8ed66c341bcc"
      },
      "source": [
        "# atualizando as dependências/diretórios\n",
        "!apt upgrade"
      ],
      "execution_count": null,
      "outputs": [
        {
          "output_type": "stream",
          "name": "stdout",
          "text": [
            "Reading package lists... Done\n",
            "Building dependency tree       \n",
            "Reading state information... Done\n",
            "Calculating upgrade... Done\n",
            "The following packages were automatically installed and are no longer required:\n",
            "  linux-headers-4.15.0-161 linux-headers-4.15.0-161-generic\n",
            "Use 'apt autoremove' to remove them.\n",
            "The following packages have been kept back:\n",
            "  libcudnn8 libcudnn8-dev libnccl-dev libnccl2\n",
            "0 upgraded, 0 newly installed, 0 to remove and 4 not upgraded.\n"
          ]
        }
      ]
    },
    {
      "cell_type": "code",
      "metadata": {
        "colab": {
          "base_uri": "https://localhost:8080/"
        },
        "id": "tFgqcn-9gZi6",
        "outputId": "1734a274-bf5f-4b8a-b7ad-cc454465501c"
      },
      "source": [
        "# instalando o \"chromedriver\"\n",
        "!apt install chromium-chromedriver"
      ],
      "execution_count": null,
      "outputs": [
        {
          "output_type": "stream",
          "name": "stdout",
          "text": [
            "Reading package lists... Done\n",
            "Building dependency tree       \n",
            "Reading state information... Done\n",
            "The following packages were automatically installed and are no longer required:\n",
            "  linux-headers-4.15.0-161 linux-headers-4.15.0-161-generic\n",
            "Use 'apt autoremove' to remove them.\n",
            "The following additional packages will be installed:\n",
            "  chromium-browser chromium-browser-l10n chromium-codecs-ffmpeg-extra\n",
            "Suggested packages:\n",
            "  webaccounts-chromium-extension unity-chromium-extension\n",
            "The following NEW packages will be installed:\n",
            "  chromium-browser chromium-browser-l10n chromium-chromedriver\n",
            "  chromium-codecs-ffmpeg-extra\n",
            "0 upgraded, 4 newly installed, 0 to remove and 4 not upgraded.\n",
            "Need to get 94.0 MB of archives.\n",
            "After this operation, 324 MB of additional disk space will be used.\n",
            "Get:1 http://archive.ubuntu.com/ubuntu bionic-updates/universe amd64 chromium-codecs-ffmpeg-extra amd64 95.0.4638.69-0ubuntu0.18.04.1 [1,135 kB]\n",
            "Get:2 http://archive.ubuntu.com/ubuntu bionic-updates/universe amd64 chromium-browser amd64 95.0.4638.69-0ubuntu0.18.04.1 [83.6 MB]\n",
            "Get:3 http://archive.ubuntu.com/ubuntu bionic-updates/universe amd64 chromium-browser-l10n all 95.0.4638.69-0ubuntu0.18.04.1 [4,249 kB]\n",
            "Get:4 http://archive.ubuntu.com/ubuntu bionic-updates/universe amd64 chromium-chromedriver amd64 95.0.4638.69-0ubuntu0.18.04.1 [4,986 kB]\n",
            "Fetched 94.0 MB in 6s (16.5 MB/s)\n",
            "Selecting previously unselected package chromium-codecs-ffmpeg-extra.\n",
            "(Reading database ... 184547 files and directories currently installed.)\n",
            "Preparing to unpack .../chromium-codecs-ffmpeg-extra_95.0.4638.69-0ubuntu0.18.04.1_amd64.deb ...\n",
            "Unpacking chromium-codecs-ffmpeg-extra (95.0.4638.69-0ubuntu0.18.04.1) ...\n",
            "Selecting previously unselected package chromium-browser.\n",
            "Preparing to unpack .../chromium-browser_95.0.4638.69-0ubuntu0.18.04.1_amd64.deb ...\n",
            "Unpacking chromium-browser (95.0.4638.69-0ubuntu0.18.04.1) ...\n",
            "Selecting previously unselected package chromium-browser-l10n.\n",
            "Preparing to unpack .../chromium-browser-l10n_95.0.4638.69-0ubuntu0.18.04.1_all.deb ...\n",
            "Unpacking chromium-browser-l10n (95.0.4638.69-0ubuntu0.18.04.1) ...\n",
            "Selecting previously unselected package chromium-chromedriver.\n",
            "Preparing to unpack .../chromium-chromedriver_95.0.4638.69-0ubuntu0.18.04.1_amd64.deb ...\n",
            "Unpacking chromium-chromedriver (95.0.4638.69-0ubuntu0.18.04.1) ...\n",
            "Setting up chromium-codecs-ffmpeg-extra (95.0.4638.69-0ubuntu0.18.04.1) ...\n",
            "Setting up chromium-browser (95.0.4638.69-0ubuntu0.18.04.1) ...\n",
            "update-alternatives: using /usr/bin/chromium-browser to provide /usr/bin/x-www-browser (x-www-browser) in auto mode\n",
            "update-alternatives: using /usr/bin/chromium-browser to provide /usr/bin/gnome-www-browser (gnome-www-browser) in auto mode\n",
            "Setting up chromium-chromedriver (95.0.4638.69-0ubuntu0.18.04.1) ...\n",
            "Setting up chromium-browser-l10n (95.0.4638.69-0ubuntu0.18.04.1) ...\n",
            "Processing triggers for man-db (2.8.3-2ubuntu0.1) ...\n",
            "Processing triggers for hicolor-icon-theme (0.17-2) ...\n",
            "Processing triggers for mime-support (3.60ubuntu1) ...\n",
            "Processing triggers for libc-bin (2.27-3ubuntu1.4) ...\n",
            "/sbin/ldconfig.real: /usr/local/lib/python3.7/dist-packages/ideep4py/lib/libmkldnn.so.0 is not a symbolic link\n",
            "\n"
          ]
        }
      ]
    },
    {
      "cell_type": "code",
      "metadata": {
        "id": "4B1OxUImgZgK"
      },
      "source": [
        "# importando a função \"webdriver\" da biblioteca \"selenium\"\n",
        "from selenium import webdriver"
      ],
      "execution_count": null,
      "outputs": []
    },
    {
      "cell_type": "code",
      "metadata": {
        "id": "4yrTIBGigZdZ"
      },
      "source": [
        "# instanciando o método da função \"webdriver.ChromeOptions()\" no objeto \"chrome_options\" \n",
        "chrome_options = webdriver.ChromeOptions()"
      ],
      "execution_count": null,
      "outputs": []
    },
    {
      "cell_type": "code",
      "metadata": {
        "id": "gXyRrCu1gZQ8"
      },
      "source": [
        "# configurando o ambiente para uso do \"chromedriver\"\n",
        "chrome_options.add_argument('--headless')\n",
        "chrome_options.add_argument('--no-sandbox')\n",
        "chrome_options.add_argument('--disable-dev-shm-usage')"
      ],
      "execution_count": null,
      "outputs": []
    },
    {
      "cell_type": "code",
      "metadata": {
        "colab": {
          "base_uri": "https://localhost:8080/"
        },
        "id": "4GxhZ6vNgI5t",
        "outputId": "f1ed6b46-cfdd-494a-81de-3a4da59ceed1"
      },
      "source": [
        "# instanciando o método da função \"webdriver.ChromeOptions()\" no objeto \"wd_chrome\" \n",
        "# e passando como argumento a configuração do ambiente \"(chrome_options=chrome_options)\"\n",
        "wd_chrome = webdriver.Chrome(chrome_options=chrome_options)"
      ],
      "execution_count": null,
      "outputs": [
        {
          "output_type": "stream",
          "name": "stderr",
          "text": [
            "/usr/local/lib/python3.7/dist-packages/ipykernel_launcher.py:3: DeprecationWarning: use options instead of chrome_options\n",
            "  This is separate from the ipykernel package so we can avoid doing imports until\n"
          ]
        }
      ]
    },
    {
      "cell_type": "markdown",
      "metadata": {
        "id": "8uedz075rVqV"
      },
      "source": [
        "### **3. Realizando a leitura da página web e instanciando o botão da página para realizar o carregamento dos dados**"
      ]
    },
    {
      "cell_type": "code",
      "metadata": {
        "id": "oN-nyiO9gI25"
      },
      "source": [
        "# realizando a leitura da página com o método \".get()\" e passando com argumento a página do site\n",
        "wd_chrome.get('https://covid.saude.gov.br')"
      ],
      "execution_count": null,
      "outputs": []
    },
    {
      "cell_type": "code",
      "metadata": {
        "colab": {
          "base_uri": "https://localhost:8080/"
        },
        "id": "XfHqncfOgIz7",
        "outputId": "09deb6d3-eadc-4e3e-cef8-d4adfd168b6e"
      },
      "source": [
        "# com o método \".find_element_by_xpath()\" passando como argumento o \"x_path\" do elemento\n",
        "# e instanciando o resultado no objeto \"csv_button\"\n",
        "csv_button = wd_chrome.find_element_by_xpath('/html/body/app-root/ion-app/ion-router-outlet/app-home/ion-content/div[1]/div[2]/ion-button')"
      ],
      "execution_count": null,
      "outputs": [
        {
          "output_type": "stream",
          "name": "stderr",
          "text": [
            "/usr/local/lib/python3.7/dist-packages/ipykernel_launcher.py:3: DeprecationWarning: find_element_by_* commands are deprecated. Please use find_element() instead\n",
            "  This is separate from the ipykernel package so we can avoid doing imports until\n"
          ]
        }
      ]
    },
    {
      "cell_type": "code",
      "metadata": {
        "id": "YHl74NfWgIxD"
      },
      "source": [
        "# com o método \".click()\" carregamos o arquivo para dentro do ambiento do google colab\n",
        "csv_button.click()"
      ],
      "execution_count": null,
      "outputs": []
    },
    {
      "cell_type": "markdown",
      "metadata": {
        "id": "qCvo7RcL16uv"
      },
      "source": [
        "> Veja na pasta lateral de arquivos do colab, que ele foi carregado como `HIST_PAINEL_COVIDBR_03nov2021.rar`.<br>\n",
        "- **obs:** como esse arquivo é atualizado todos os dias, sua descrição será sempre atualizado.\n",
        "\n",
        "Outro detalhe é que ele está temporariamente \"salvo\" e, na próxima etapa iremos de fato salvá-lo em uma pasta no nosso google drive."
      ]
    },
    {
      "cell_type": "markdown",
      "metadata": {
        "id": "am_VigDpbZiS"
      },
      "source": [
        "> `Na primeira aplicação o arquivo era do tipo` **.rar** `e, houve uma atualização do tipo do arquivo zipado para` **7.z**`. Portanto utilizaremos outra técnica de extração do arquivo.`"
      ]
    },
    {
      "cell_type": "markdown",
      "metadata": {
        "id": "Xt2oTjDar733"
      },
      "source": [
        "### **4. Extraindo os dados e instanciando o arquivo de interesse em um objeto**"
      ]
    },
    {
      "cell_type": "code",
      "metadata": {
        "id": "UJweh-ZHisy5",
        "colab": {
          "base_uri": "https://localhost:8080/"
        },
        "outputId": "cc2539b8-2628-4309-9f09-0a806a78f3f6"
      },
      "source": [
        "# importando a biblioteca para acesso do sistema operacional\n",
        "import os\n",
        "os.system( '7z x archive.7z -oPath/to/Name' )"
      ],
      "execution_count": null,
      "outputs": [
        {
          "output_type": "execute_result",
          "data": {
            "text/plain": [
              "512"
            ]
          },
          "metadata": {},
          "execution_count": 80
        }
      ]
    },
    {
      "cell_type": "code",
      "metadata": {
        "id": "E0vWd9FbiswG"
      },
      "source": [
        "# criando uma pasta no drive de \"dados_COVIDBR\"\n",
        "os.makedirs('/content/drive/MyDrive/dados_COVIDBR', \n",
        "            exist_ok=True)"
      ],
      "execution_count": null,
      "outputs": []
    },
    {
      "cell_type": "code",
      "metadata": {
        "id": "G5kPOjsLgItw"
      },
      "source": [
        "# movendo o arquivo para a pasta criada no google drive\n",
        "!mv '/content/HIST_PAINEL_COVIDBR_17nov2021.7z' '/content/drive/MyDrive/dados_COVIDBR'"
      ],
      "execution_count": null,
      "outputs": []
    },
    {
      "cell_type": "code",
      "metadata": {
        "colab": {
          "base_uri": "https://localhost:8080/"
        },
        "id": "3CpqYECyXffh",
        "outputId": "eb573780-9658-43f6-8a0e-9e50519f5385"
      },
      "source": [
        "# instalando a biblioteca\n",
        "!pip install py7zr"
      ],
      "execution_count": null,
      "outputs": [
        {
          "output_type": "stream",
          "name": "stdout",
          "text": [
            "Requirement already satisfied: py7zr in /usr/local/lib/python3.7/dist-packages (0.16.3)\n",
            "Requirement already satisfied: pycryptodomex>=3.6.6 in /usr/local/lib/python3.7/dist-packages (from py7zr) (3.11.0)\n",
            "Requirement already satisfied: brotli>=1.0.9 in /usr/local/lib/python3.7/dist-packages (from py7zr) (1.0.9)\n",
            "Requirement already satisfied: pyppmd>=0.17.0 in /usr/local/lib/python3.7/dist-packages (from py7zr) (0.17.3)\n",
            "Requirement already satisfied: pyzstd>=0.14.4 in /usr/local/lib/python3.7/dist-packages (from py7zr) (0.15.0)\n",
            "Requirement already satisfied: importlib-metadata in /usr/local/lib/python3.7/dist-packages (from py7zr) (4.8.2)\n",
            "Requirement already satisfied: pybcj>=0.5.0 in /usr/local/lib/python3.7/dist-packages (from py7zr) (0.5.0)\n",
            "Requirement already satisfied: multivolumefile>=0.2.3 in /usr/local/lib/python3.7/dist-packages (from py7zr) (0.2.3)\n",
            "Requirement already satisfied: texttable in /usr/local/lib/python3.7/dist-packages (from py7zr) (1.6.4)\n",
            "Requirement already satisfied: zipp>=0.5 in /usr/local/lib/python3.7/dist-packages (from importlib-metadata->py7zr) (3.6.0)\n",
            "Requirement already satisfied: typing-extensions>=3.6.4 in /usr/local/lib/python3.7/dist-packages (from importlib-metadata->py7zr) (3.10.0.2)\n"
          ]
        }
      ]
    },
    {
      "cell_type": "code",
      "metadata": {
        "id": "C1Hy0fBqXgO6"
      },
      "source": [
        "# importando a biblioteca\n",
        "import py7zr\n",
        "\n",
        "# instanciando o arquivo no objeto \"z\"\n",
        "with py7zr.SevenZipFile('/content/drive/MyDrive/dados_COVIDBR/HIST_PAINEL_COVIDBR_17nov2021.7z', mode='r') as z:\n",
        "    z.extractall()"
      ],
      "execution_count": null,
      "outputs": []
    },
    {
      "cell_type": "code",
      "metadata": {
        "colab": {
          "base_uri": "https://localhost:8080/"
        },
        "id": "ZrzcSOgsZyqz",
        "outputId": "b703c7da-a10f-47c4-eb2d-6f50899ecef0"
      },
      "source": [
        "# instalando a biblioteca\n",
        "!pip install pyunpack"
      ],
      "execution_count": null,
      "outputs": [
        {
          "output_type": "stream",
          "name": "stdout",
          "text": [
            "Requirement already satisfied: pyunpack in /usr/local/lib/python3.7/dist-packages (0.2.2)\n",
            "Requirement already satisfied: easyprocess in /usr/local/lib/python3.7/dist-packages (from pyunpack) (0.3)\n",
            "Requirement already satisfied: entrypoint2 in /usr/local/lib/python3.7/dist-packages (from pyunpack) (0.2.4)\n"
          ]
        }
      ]
    },
    {
      "cell_type": "code",
      "metadata": {
        "colab": {
          "base_uri": "https://localhost:8080/"
        },
        "id": "v6T_S6iva3on",
        "outputId": "d840a63d-44ec-4c00-f2c1-5922db1a9be0"
      },
      "source": [
        "# instalando a biblioteca\n",
        "!pip install patool"
      ],
      "execution_count": null,
      "outputs": [
        {
          "output_type": "stream",
          "name": "stdout",
          "text": [
            "Requirement already satisfied: patool in /usr/local/lib/python3.7/dist-packages (1.12)\n"
          ]
        }
      ]
    },
    {
      "cell_type": "code",
      "metadata": {
        "id": "oTOk79EHajCH"
      },
      "source": [
        "# importando o módulo da biblioteca \"pynpack\"\n",
        "from pyunpack import Archive\n",
        "\n",
        "Archive('/content/drive/MyDrive/dados_COVIDBR/HIST_PAINEL_COVIDBR_17nov2021.7z').extractall('/content/drive/MyDrive/dados_COVIDBR')"
      ],
      "execution_count": null,
      "outputs": []
    },
    {
      "cell_type": "markdown",
      "metadata": {
        "id": "H5VvlBLD4Dsi"
      },
      "source": [
        "> Aqui estamos movendo o arquivo para a pasta `dados_COVIDBR`.\n",
        "\n",
        "Se atente ao detalhe que este arquivo é do tipo `rar` e, precisamos realizar a extração dele."
      ]
    },
    {
      "cell_type": "code",
      "metadata": {
        "colab": {
          "base_uri": "https://localhost:8080/"
        },
        "id": "0xh0iTZgpnUV",
        "outputId": "24c2ca2a-022a-4d1c-cea9-5531bdda4cf2"
      },
      "source": [
        "# # instalando a biblioteca para a extração de arquivos \"rar\"\n",
        "# !pip install rarfile"
      ],
      "execution_count": null,
      "outputs": [
        {
          "output_type": "stream",
          "name": "stdout",
          "text": [
            "Requirement already satisfied: rarfile in /usr/local/lib/python3.7/dist-packages (4.0)\n"
          ]
        }
      ]
    },
    {
      "cell_type": "code",
      "metadata": {
        "id": "lXW98mFmoCbL"
      },
      "source": [
        "# # importando a biblioteca para realizar a extração de arquivo do tipo \"rar\"\n",
        "# import rarfile"
      ],
      "execution_count": null,
      "outputs": []
    },
    {
      "cell_type": "code",
      "metadata": {
        "id": "EeoHsc7yoCY-"
      },
      "source": [
        "# # instanciando o caminho do arquivo \"rar\" com a função \".RarFile()\" da biblioteca \"rarfile\"\n",
        "# r = rarfile.RarFile('/content/drive/MyDrive/dados_COVIDBR//content/drive/MyDrive/dados_COVIDBR/HIST_PAINEL_COVIDBR_17nov2021.7z')\n",
        "\n",
        "# # com a função \".extractall\" extraindo os arquivos \n",
        "# r.extractall()\n",
        "# r.close()   # encerrando o processo"
      ],
      "execution_count": null,
      "outputs": []
    },
    {
      "cell_type": "markdown",
      "metadata": {
        "id": "lhJ5_Bjx5wA0"
      },
      "source": [
        "> Agora veja que o arquivo `rar` foi extraído em vários outros arquivos do tipo `csv`.\n",
        "\n",
        "Chegamos a etapa final, escolheremos um desses arquivos e instanciaremos o seu caminho do google drive em um objeto, aqui chamaremos de `PATH`."
      ]
    },
    {
      "cell_type": "code",
      "metadata": {
        "id": "igSChFFIoCWL"
      },
      "source": [
        "# instanciando o arquivo de interesse\n",
        "PATH = '/content/HIST_PAINEL_COVIDBR_2020_Parte1_17nov2021.csv'"
      ],
      "execution_count": null,
      "outputs": []
    },
    {
      "cell_type": "code",
      "metadata": {
        "id": "0j0F81bRoCTY"
      },
      "source": [
        "# importando a biblioteca \"pandas\" para modelagem de dados\n",
        "import pandas as pd"
      ],
      "execution_count": null,
      "outputs": []
    },
    {
      "cell_type": "code",
      "metadata": {
        "id": "lplvdHPDqIDu"
      },
      "source": [
        "# com o método \".read_csv\" do pandas, realizando a leitura do arquivo instanciado no objeto \"PATH\"\n",
        "# e definindo o argumento \"sep=';\" \n",
        "covid = pd.read_csv(PATH, sep=';')"
      ],
      "execution_count": null,
      "outputs": []
    },
    {
      "cell_type": "code",
      "metadata": {
        "colab": {
          "base_uri": "https://localhost:8080/",
          "height": 309
        },
        "id": "tHxV8oBKqIBA",
        "outputId": "d892b0d2-4c23-48d1-fca7-220e65d6be67"
      },
      "source": [
        "# visualizando as 5 primeiras linhas do conjunto de dados\n",
        "covid.head()"
      ],
      "execution_count": null,
      "outputs": [
        {
          "output_type": "execute_result",
          "data": {
            "text/html": [
              "<div>\n",
              "<style scoped>\n",
              "    .dataframe tbody tr th:only-of-type {\n",
              "        vertical-align: middle;\n",
              "    }\n",
              "\n",
              "    .dataframe tbody tr th {\n",
              "        vertical-align: top;\n",
              "    }\n",
              "\n",
              "    .dataframe thead th {\n",
              "        text-align: right;\n",
              "    }\n",
              "</style>\n",
              "<table border=\"1\" class=\"dataframe\">\n",
              "  <thead>\n",
              "    <tr style=\"text-align: right;\">\n",
              "      <th></th>\n",
              "      <th>regiao</th>\n",
              "      <th>estado</th>\n",
              "      <th>municipio</th>\n",
              "      <th>coduf</th>\n",
              "      <th>codmun</th>\n",
              "      <th>codRegiaoSaude</th>\n",
              "      <th>nomeRegiaoSaude</th>\n",
              "      <th>data</th>\n",
              "      <th>semanaEpi</th>\n",
              "      <th>populacaoTCU2019</th>\n",
              "      <th>casosAcumulado</th>\n",
              "      <th>casosNovos</th>\n",
              "      <th>obitosAcumulado</th>\n",
              "      <th>obitosNovos</th>\n",
              "      <th>Recuperadosnovos</th>\n",
              "      <th>emAcompanhamentoNovos</th>\n",
              "      <th>interior/metropolitana</th>\n",
              "    </tr>\n",
              "  </thead>\n",
              "  <tbody>\n",
              "    <tr>\n",
              "      <th>0</th>\n",
              "      <td>Brasil</td>\n",
              "      <td>NaN</td>\n",
              "      <td>NaN</td>\n",
              "      <td>76</td>\n",
              "      <td>NaN</td>\n",
              "      <td>NaN</td>\n",
              "      <td>NaN</td>\n",
              "      <td>2020-02-25</td>\n",
              "      <td>9</td>\n",
              "      <td>210147125.0</td>\n",
              "      <td>0</td>\n",
              "      <td>0</td>\n",
              "      <td>0</td>\n",
              "      <td>0</td>\n",
              "      <td>NaN</td>\n",
              "      <td>NaN</td>\n",
              "      <td>NaN</td>\n",
              "    </tr>\n",
              "    <tr>\n",
              "      <th>1</th>\n",
              "      <td>Brasil</td>\n",
              "      <td>NaN</td>\n",
              "      <td>NaN</td>\n",
              "      <td>76</td>\n",
              "      <td>NaN</td>\n",
              "      <td>NaN</td>\n",
              "      <td>NaN</td>\n",
              "      <td>2020-02-26</td>\n",
              "      <td>9</td>\n",
              "      <td>210147125.0</td>\n",
              "      <td>1</td>\n",
              "      <td>1</td>\n",
              "      <td>0</td>\n",
              "      <td>0</td>\n",
              "      <td>NaN</td>\n",
              "      <td>NaN</td>\n",
              "      <td>NaN</td>\n",
              "    </tr>\n",
              "    <tr>\n",
              "      <th>2</th>\n",
              "      <td>Brasil</td>\n",
              "      <td>NaN</td>\n",
              "      <td>NaN</td>\n",
              "      <td>76</td>\n",
              "      <td>NaN</td>\n",
              "      <td>NaN</td>\n",
              "      <td>NaN</td>\n",
              "      <td>2020-02-27</td>\n",
              "      <td>9</td>\n",
              "      <td>210147125.0</td>\n",
              "      <td>1</td>\n",
              "      <td>0</td>\n",
              "      <td>0</td>\n",
              "      <td>0</td>\n",
              "      <td>NaN</td>\n",
              "      <td>NaN</td>\n",
              "      <td>NaN</td>\n",
              "    </tr>\n",
              "    <tr>\n",
              "      <th>3</th>\n",
              "      <td>Brasil</td>\n",
              "      <td>NaN</td>\n",
              "      <td>NaN</td>\n",
              "      <td>76</td>\n",
              "      <td>NaN</td>\n",
              "      <td>NaN</td>\n",
              "      <td>NaN</td>\n",
              "      <td>2020-02-28</td>\n",
              "      <td>9</td>\n",
              "      <td>210147125.0</td>\n",
              "      <td>1</td>\n",
              "      <td>0</td>\n",
              "      <td>0</td>\n",
              "      <td>0</td>\n",
              "      <td>NaN</td>\n",
              "      <td>NaN</td>\n",
              "      <td>NaN</td>\n",
              "    </tr>\n",
              "    <tr>\n",
              "      <th>4</th>\n",
              "      <td>Brasil</td>\n",
              "      <td>NaN</td>\n",
              "      <td>NaN</td>\n",
              "      <td>76</td>\n",
              "      <td>NaN</td>\n",
              "      <td>NaN</td>\n",
              "      <td>NaN</td>\n",
              "      <td>2020-02-29</td>\n",
              "      <td>9</td>\n",
              "      <td>210147125.0</td>\n",
              "      <td>2</td>\n",
              "      <td>1</td>\n",
              "      <td>0</td>\n",
              "      <td>0</td>\n",
              "      <td>NaN</td>\n",
              "      <td>NaN</td>\n",
              "      <td>NaN</td>\n",
              "    </tr>\n",
              "  </tbody>\n",
              "</table>\n",
              "</div>"
            ],
            "text/plain": [
              "   regiao estado  ... emAcompanhamentoNovos  interior/metropolitana\n",
              "0  Brasil    NaN  ...                   NaN                     NaN\n",
              "1  Brasil    NaN  ...                   NaN                     NaN\n",
              "2  Brasil    NaN  ...                   NaN                     NaN\n",
              "3  Brasil    NaN  ...                   NaN                     NaN\n",
              "4  Brasil    NaN  ...                   NaN                     NaN\n",
              "\n",
              "[5 rows x 17 columns]"
            ]
          },
          "metadata": {},
          "execution_count": 92
        }
      ]
    },
    {
      "cell_type": "code",
      "metadata": {
        "colab": {
          "base_uri": "https://localhost:8080/"
        },
        "id": "KJTM0SQqdgwu",
        "outputId": "0edf9c28-3be9-4d52-ffe7-677880fdf574"
      },
      "source": [
        "# informações gerais do conjunto de dados\n",
        "covid.info()"
      ],
      "execution_count": null,
      "outputs": [
        {
          "output_type": "stream",
          "name": "stdout",
          "text": [
            "<class 'pandas.core.frame.DataFrame'>\n",
            "RangeIndex: 714481 entries, 0 to 714480\n",
            "Data columns (total 17 columns):\n",
            " #   Column                  Non-Null Count   Dtype  \n",
            "---  ------                  --------------   -----  \n",
            " 0   regiao                  714481 non-null  object \n",
            " 1   estado                  714323 non-null  object \n",
            " 2   municipio               707390 non-null  object \n",
            " 3   coduf                   714481 non-null  int64  \n",
            " 4   codmun                  710057 non-null  float64\n",
            " 5   codRegiaoSaude          707390 non-null  float64\n",
            " 6   nomeRegiaoSaude         707390 non-null  object \n",
            " 7   data                    714481 non-null  object \n",
            " 8   semanaEpi               714481 non-null  int64  \n",
            " 9   populacaoTCU2019        711814 non-null  float64\n",
            " 10  casosAcumulado          714481 non-null  int64  \n",
            " 11  casosNovos              714481 non-null  int64  \n",
            " 12  obitosAcumulado         714481 non-null  int64  \n",
            " 13  obitosNovos             714481 non-null  int64  \n",
            " 14  Recuperadosnovos        104 non-null     float64\n",
            " 15  emAcompanhamentoNovos   104 non-null     float64\n",
            " 16  interior/metropolitana  707390 non-null  float64\n",
            "dtypes: float64(6), int64(6), object(5)\n",
            "memory usage: 92.7+ MB\n"
          ]
        }
      ]
    },
    {
      "cell_type": "markdown",
      "metadata": {
        "id": "UoLeoobLycG2"
      },
      "source": [
        "> Veja que conseguimos realizar com sucesso todas as etapas do nosso objetivo.\n",
        "\n",
        "A partir de agora podemos realizar as nossas análises com este conjunto de dados.\n",
        "\n",
        "Porém, por enquanto é só isso!"
      ]
    },
    {
      "cell_type": "code",
      "metadata": {
        "id": "THrKR57OqH-T"
      },
      "source": [
        ""
      ],
      "execution_count": null,
      "outputs": []
    },
    {
      "cell_type": "code",
      "metadata": {
        "id": "6wAXy4cxqH70"
      },
      "source": [
        ""
      ],
      "execution_count": null,
      "outputs": []
    },
    {
      "cell_type": "code",
      "metadata": {
        "id": "2pakeUtSqH6C"
      },
      "source": [
        ""
      ],
      "execution_count": null,
      "outputs": []
    },
    {
      "cell_type": "code",
      "metadata": {
        "id": "3qaLQiGAqH2z"
      },
      "source": [
        ""
      ],
      "execution_count": null,
      "outputs": []
    }
  ]
}